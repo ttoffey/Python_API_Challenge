{
 "cells": [
  {
   "cell_type": "markdown",
   "metadata": {},
   "source": [
    "# WeatherPy\n",
    "----\n",
    "\n",
    "#### Note\n",
    "* Instructions have been included for each segment. You do not have to follow them exactly, but they are included to help you think through the steps."
   ]
  },
  {
   "cell_type": "code",
   "execution_count": 1,
   "metadata": {
    "scrolled": true
   },
   "outputs": [],
   "source": [
    "# Dependencies and Setup\n",
    "import matplotlib.pyplot as plt\n",
    "import pandas as pd\n",
    "import numpy as np\n",
    "import requests\n",
    "import time\n",
    "from scipy.stats import linregress\n",
    "from pprint import pprint\n",
    "\n",
    "# Import API key\n",
    "from api_keys import weather_api_key\n",
    "\n",
    "# Incorporated citipy to determine city based on latitude and longitude\n",
    "from citipy import citipy\n",
    "\n",
    "# Output File (CSV)\n",
    "output_data_file = \"output_data/cities.csv\"\n",
    "\n",
    "# Range of latitudes and longitudes\n",
    "lat_range = (-90, 90)\n",
    "lng_range = (-180, 180)"
   ]
  },
  {
   "cell_type": "markdown",
   "metadata": {},
   "source": [
    "## Generate Cities List"
   ]
  },
  {
   "cell_type": "code",
   "execution_count": 2,
   "metadata": {},
   "outputs": [
    {
     "data": {
      "text/plain": [
       "620"
      ]
     },
     "execution_count": 2,
     "metadata": {},
     "output_type": "execute_result"
    }
   ],
   "source": [
    "# List for holding lat_lngs and cities\n",
    "lat_lngs = []\n",
    "cities = []\n",
    "\n",
    "# Create a set of random lat and lng combinations\n",
    "lats = np.random.uniform(lat_range[0], lat_range[1], size=1500)\n",
    "lngs = np.random.uniform(lng_range[0], lng_range[1], size=1500)\n",
    "lat_lngs = zip(lats, lngs)\n",
    "\n",
    "# Identify nearest city for each lat, lng combination\n",
    "for lat_lng in lat_lngs:\n",
    "    city = citipy.nearest_city(lat_lng[0], lat_lng[1]).city_name\n",
    "    \n",
    "    # If the city is unique, then add it to a our cities list\n",
    "    if city not in cities:\n",
    "        cities.append(city)\n",
    "\n",
    "# Print the city count to confirm sufficient count\n",
    "len(cities)"
   ]
  },
  {
   "cell_type": "code",
   "execution_count": 3,
   "metadata": {},
   "outputs": [
    {
     "name": "stdout",
     "output_type": "stream",
     "text": [
      "['fairbanks', 'sa kaeo', 'yanam', 'pisco', 'jamestown', 'stoyba', 'hithadhoo', 'port hedland', 'busselton', 'bafata', 'torbay', 'lolua', 'ushuaia', 'port elizabeth', 'luderitz', 'pando', 'tawang', 'parati', 'kunashak', 'richards bay', 'bokspits', 'taolanaro', 'itarema', 'kalmunai', 'moose factory', 'huarmey', 'dehui', 'saurimo', 'albany', 'bitung', 'leningradskiy', 'rikitea', 'puerto ayora', 'kapaa', 'bambous virieux', 'airai', 'hermanus', 'kodiak', 'lake havasu city', 'lorengau', 'dunn', 'kwinana', 'kahului', 'hilo', 'conceicao do araguaia', 'aswan', 'kovur', 'kastamonu', 'irbit', 'ponta do sol', 'thompson', 'punta arenas', 'hobart', 'port alfred', 'saint-philippe', 'huicheng', 'galle', 'strezhevoy', 'illoqqortoormiut', 'tasiilaq', 'camana', 'east london', 'bethel', 'tabuk', 'fortuna', 'muros', 'mataura', 'venezuela', 'kanniyakumari', 'auki', 'miri', 'meulaboh', 'cape town', 'baruun-urt', 'tiksi', 'mar del plata', 'tsihombe', 'tuktoyaktuk', 'georgetown', 'talnakh', 'upernavik', 'mwense', 'xiongshi', 'vaini', 'namwala', 'sorvag', 'povazska bystrica', 'wahran', 'dalby', 'akropong', 'kenitra', 'coquimbo', 'marsala', 'yinchuan', 'warqla', 'stromness', 'vaitupu', 'yellowknife', 'louisbourg', 'arraial do cabo', 'srednekolymsk', 'chuy', 'saleaula', 'ornskoldsvik', 'el seibo', 'talara', 'roald', 'bridlington', 'azimur', 'santa cruz del sur', 'katsuura', 'barcelona', 'lavrentiya', 'comodoro rivadavia', 'volosovo', 'hervey bay', 'bestobe', 'cuxhaven', 'bo rai', 'acapulco', 'yusva', 'guerrero negro', 'promyshlennaya', 'sindor', 'aflu', 'ilulissat', 'bluff', 'souillac', 'tubruq', 'zhezkazgan', 'kabompo', 'khonuu', 'barrow', 'qaanaaq', 'biak', 'benguela', 'victoria', 'kloulklubed', 'atuona', 'oyem', 'torbat-e jam', 'sitka', 'college', 'nikolskoye', 'the pas', 'castro', 'portland', 'shakiso', 'birin', 'atbasar', 'kinanah', 'ribeira grande', 'mattawa', 'vestmannaeyjar', 'pangnirtung', 'ancud', 'baturaja', 'non sang', 'cidreira', 'rawson', 'la asuncion', 'forst', 'kuche', 'new norfolk', 'mazatlan', 'la ronge', 'straumen', 'pevek', 'tongliao', 'half moon bay', 'kaniama', 'avarua', 'lebu', 'caravelas', 'el cope', 'manggar', 'clyde river', 'srandakan', 'edd', 'lagoa', 'linares', 'bredasdorp', 'itoman', 'yulara', 'tautira', 'anadyr', 'varhaug', 'kaeo', 'butaritari', 'gambela', 'kostomuksha', 'hami', 'le port', 'whitianga', 'provideniya', 'pierre', 'wladyslawowo', 'chimoio', 'mys shmidta', 'baghdad', 'kuchaman', 'jiangyou', 'mahebourg', 'vallenar', 'oranjemund', 'bengkulu', 'port hardy', 'brovary', 'ilo', 'port keats', 'bambanglipuro', 'constitucion', 'santa cruz', 'javanrud', 'guozhen', 'khatanga', 'barcelos', 'san jeronimo', 'kilindoni', 'isla mujeres', 'faanui', 'sorland', 'kuopio', 'khasan', 'jalu', 'barentsburg', 'belushya guba', 'dunedin', 'saskylakh', 'port blair', 'skalistyy', 'bathsheba', 'sentyabrskiy', 'halifax', 'klin', 'erzin', 'tilichiki', 'maymyo', 'vila velha', 'paciran', 'surgana', 'samusu', 'margate', 'meyungs', 'dikson', 'nerchinskiy zavod', 'along', 'san lawrenz', 'chokurdakh', 'namibe', 'longyearbyen', 'umzimvubu', 'atar', 'attawapiskat', 'salacgriva', 'orange', 'the valley', 'inhambane', 'yuzhno-yeniseyskiy', 'carballo', 'wanning', 'kieta', 'biu', 'duki', 'port moresby', 'puerto escondido', 'broome', 'severo-kurilsk', 'agde', 'vanimo', 'santa vitoria do palmar', 'nagua', 'soron', 'cabo san lucas', 'kavieng', 'porto torres', 'bolungarvik', 'amderma', 'powell', 'hoquiam', 'san rafael', 'cap-aux-meules', 'ostrovnoy', 'goma', 'vilhena', 'cherskiy', 'cayenne', 'taoudenni', 'marienburg', 'rio grande', 'san cristobal', 'tahe', 'grand river south east', 'sedro-woolley', 'hamilton', 'superior', 'rorvik', 'kenai', 'matay', 'digras', 'kamenskoye', 'beloha', 'kawalu', 'kavaratti', 'maniitsoq', 'tumannyy', 'hay river', 'gao', 'ribas do rio pardo', 'price', 'lompoc', 'kununurra', 'atessa', 'yumen', 'te anau', 'aklavik', 'klaksvik', 'cabedelo', 'antalaha', 'ixtapa', 'kamiiso', 'avera', 'neiafu', 'vila', 'nizhneyansk', 'sept-iles', 'duekoue', 'karkaralinsk', 'keti bandar', 'khammam', 'sinegorskiy', 'husavik', 'olafsvik', 'broken hill', 'mamou', 'vieques', 'uwayl', 'nanortalik', 'isangel', 'toora-khem', 'carnarvon', 'bilibino', 'redmond', 'san carlos de bariloche', 'raymond', 'poum', 'hailar', 'alice springs', 'gonbad-e qabus', 'huanren', 'praia da vitoria', 'santa maria', 'elbrus', 'esperance', 'fuyang', 'vuktyl', 'jian', 'madison', 'mount gambier', 'karaton', 'hobyo', 'panguna', 'chapais', 'naze', 'port lincoln', 'yumbe', 'lasa', 'conde', 'eureka', 'chagda', 'korgen', 'buala', 'marratxi', 'fianarantsoa', 'lillooet', 'pitkyaranta', 'sao benedito do rio preto', 'abu dhabi', 'qaqortoq', 'chernyshevskiy', 'kon tum', 'ola', 'stroitel', 'norrkoping', 'hendijan', 'denpasar', 'zabol', 'takoradi', 'aktau', 'kamenka', 'kangaatsiaq', 'puerto del rosario', 'sangar', 'goiatuba', 'caucaia', 'beira', 'blagoyevo', 'kochevo', 'wukari', 'doka', 'nizwa', 'san patricio', 'saldanha', 'bilma', 'puerto leguizamo', 'culebra', 'lacarak', 'kaitangata', 'ikalamavony', 'port-gentil', 'kruisfontein', 'oussouye', 'kyaikkami', 'karoi', 'rudbar', 'karratha', 'sibu', 'vostok', 'glinka', 'noormarkku', 'norman wells', 'gayny', 'goderich', 'madaoua', 'liku', 'narsaq', 'damghan', 'bratsk', 'baculin', 'bairiki', 'santarem', 'hihifo', 'gatesville', 'salalah', 'sobolevo', 'yar-sale', 'gotsu', 'sechura', 'dedza', 'bandarbeyla', 'dingle', 'san quintin', 'ust-maya', 'zhigansk', 'polovinnoye', 'innisfail', 'itaberaba', 'dingtao', 'awjilah', 'korla', 'ongandjera', 'granville', 'flinders', 'codrington', 'pietarsaari', 'kuragino', 'mount isa', 'iqaluit', 'honiara', 'bonoua', 'miranda de ebro', 'sumbawa', 'port augusta', 'seymchan', 'grindavik', 'sao filipe', 'laurel', 'sinkat', 'calbuco', 'xining', 'vila franca do campo', 'touros', 'poya', 'urcos', 'ambositra', 'sola', 'solano', 'barra do garcas', 'raudeberg', 'springfield', 'maumere', 'khoy', 'kidal', 'huilong', 'myitkyina', 'kuhestan', 'port hueneme', 'sao gabriel da cachoeira', 'hofn', 'mansa', 'chhatak', 'vao', 'sheregesh', 'hasaki', 'catalina', 'koslan', 'berlevag', 'san giovanni in persiceto', 'nevelsk', 'geresk', 'palmer', 'tokur', 'turayf', 'yetkul', 'kondratovo', 'nantucket', 'harper', 'miguel auza', 'tomatlan', 'brae', 'luwuk', 'qunduz', 'acarau', 'tevaitoa', 'saint anthony', 'hanyang', 'alyangula', 'pokhara', 'rocha', 'partizansk', 'bardiyah', 'espanola', 'paamiut', 'karimpur', 'zverinogolovskoye', 'malwan', 'pascagoula', 'kurchum', 'presidente medici', 'asau', 'blyth', 'temiscaming', 'saint george', 'weyburn', 'chitrakonda', 'sirajganj', 'havre-saint-pierre', 'novyy urengoy', 'tapaua', 'smithers', 'ruatoria', 'ossora', 'kokkola', 'kampot', 'shimoda', 'derzhavinsk', 'aktanysh', 'mantua', 'buchanan', 'sorong', 'navrongo', 'kerchevskiy', 'sakakah', 'palabuhanratu', 'catuday', 'san francisco', 'isabela', 'bialystok', 'muleba', 'naron', 'beringovskiy', 'copiapo', 'vievis', 'byron bay', 'taitung', 'seguela', 'swan river', 'mattru', 'quelimane', 'lyubinskiy', 'tecoanapa', 'san-pedro', 'olmos', 'lata', 'galich', 'urusha', 'ocampo', 'rognan', 'sretensk', 'galveston', 'othonoi', 'bollnas', 'tocopilla', 'bereda', 'salinopolis', 'lom sak', 'tuatapere', 'necochea', 'arklow', 'santa cruz de la palma', 'iglesias', 'hokitika', 'maues', 'grand gaube', 'campos', 'gornyy', 'castrillon', 'mitsamiouli', 'cocobeach', 'gwanda', 'roma', 'okhotsk', 'vokhma', 'tarudant', 'alotau', 'moron', 'pandharpur', 'meiningen', 'artyom', 'pasni', 'shubarkuduk', 'bagdarin', 'petropavlovsk-kamchatskiy', 'tayu', 'rurrenabaque', 'sint michiel', 'komsomolskiy', 'santa cruz cabralia', 'kushima', 'maningrida']\n"
     ]
    }
   ],
   "source": [
    "print(cities)"
   ]
  },
  {
   "cell_type": "code",
   "execution_count": 4,
   "metadata": {},
   "outputs": [
    {
     "name": "stdout",
     "output_type": "stream",
     "text": [
      "['fairbanks', 'sa kaeo', 'yanam', 'pisco', 'jamestown', 'stoyba', 'hithadhoo', 'port hedland', 'busselton', 'bafata', 'torbay', 'lolua', 'ushuaia', 'port elizabeth', 'luderitz', 'pando', 'tawang', 'parati', 'kunashak', 'richards bay']\n",
      "20\n"
     ]
    }
   ],
   "source": [
    "cities_20 = cities[0:20]\n",
    "print(cities_20)\n",
    "print(len(cities_20))"
   ]
  },
  {
   "cell_type": "code",
   "execution_count": 5,
   "metadata": {},
   "outputs": [
    {
     "data": {
      "text/html": [
       "<div>\n",
       "<style scoped>\n",
       "    .dataframe tbody tr th:only-of-type {\n",
       "        vertical-align: middle;\n",
       "    }\n",
       "\n",
       "    .dataframe tbody tr th {\n",
       "        vertical-align: top;\n",
       "    }\n",
       "\n",
       "    .dataframe thead th {\n",
       "        text-align: right;\n",
       "    }\n",
       "</style>\n",
       "<table border=\"1\" class=\"dataframe\">\n",
       "  <thead>\n",
       "    <tr style=\"text-align: right;\">\n",
       "      <th></th>\n",
       "      <th>City</th>\n",
       "    </tr>\n",
       "  </thead>\n",
       "  <tbody>\n",
       "    <tr>\n",
       "      <th>0</th>\n",
       "      <td>fairbanks</td>\n",
       "    </tr>\n",
       "    <tr>\n",
       "      <th>1</th>\n",
       "      <td>sa kaeo</td>\n",
       "    </tr>\n",
       "    <tr>\n",
       "      <th>2</th>\n",
       "      <td>yanam</td>\n",
       "    </tr>\n",
       "    <tr>\n",
       "      <th>3</th>\n",
       "      <td>pisco</td>\n",
       "    </tr>\n",
       "    <tr>\n",
       "      <th>4</th>\n",
       "      <td>jamestown</td>\n",
       "    </tr>\n",
       "    <tr>\n",
       "      <th>...</th>\n",
       "      <td>...</td>\n",
       "    </tr>\n",
       "    <tr>\n",
       "      <th>615</th>\n",
       "      <td>sint michiel</td>\n",
       "    </tr>\n",
       "    <tr>\n",
       "      <th>616</th>\n",
       "      <td>komsomolskiy</td>\n",
       "    </tr>\n",
       "    <tr>\n",
       "      <th>617</th>\n",
       "      <td>santa cruz cabralia</td>\n",
       "    </tr>\n",
       "    <tr>\n",
       "      <th>618</th>\n",
       "      <td>kushima</td>\n",
       "    </tr>\n",
       "    <tr>\n",
       "      <th>619</th>\n",
       "      <td>maningrida</td>\n",
       "    </tr>\n",
       "  </tbody>\n",
       "</table>\n",
       "<p>620 rows × 1 columns</p>\n",
       "</div>"
      ],
      "text/plain": [
       "                    City\n",
       "0              fairbanks\n",
       "1                sa kaeo\n",
       "2                  yanam\n",
       "3                  pisco\n",
       "4              jamestown\n",
       "..                   ...\n",
       "615         sint michiel\n",
       "616         komsomolskiy\n",
       "617  santa cruz cabralia\n",
       "618              kushima\n",
       "619           maningrida\n",
       "\n",
       "[620 rows x 1 columns]"
      ]
     },
     "execution_count": 5,
     "metadata": {},
     "output_type": "execute_result"
    }
   ],
   "source": [
    "#df = pd.DataFrame(cities_20)\n",
    "df = pd.DataFrame(cities)\n",
    "df=df.rename(columns={0:'City'})\n",
    "df"
   ]
  },
  {
   "cell_type": "code",
   "execution_count": 6,
   "metadata": {},
   "outputs": [
    {
     "data": {
      "text/html": [
       "<div>\n",
       "<style scoped>\n",
       "    .dataframe tbody tr th:only-of-type {\n",
       "        vertical-align: middle;\n",
       "    }\n",
       "\n",
       "    .dataframe tbody tr th {\n",
       "        vertical-align: top;\n",
       "    }\n",
       "\n",
       "    .dataframe thead th {\n",
       "        text-align: right;\n",
       "    }\n",
       "</style>\n",
       "<table border=\"1\" class=\"dataframe\">\n",
       "  <thead>\n",
       "    <tr style=\"text-align: right;\">\n",
       "      <th></th>\n",
       "      <th>City</th>\n",
       "      <th>lat</th>\n",
       "      <th>long</th>\n",
       "      <th>temp</th>\n",
       "      <th>humidity</th>\n",
       "      <th>cloudiness</th>\n",
       "      <th>windspeed</th>\n",
       "    </tr>\n",
       "  </thead>\n",
       "  <tbody>\n",
       "    <tr>\n",
       "      <th>0</th>\n",
       "      <td>fairbanks</td>\n",
       "      <td></td>\n",
       "      <td></td>\n",
       "      <td></td>\n",
       "      <td></td>\n",
       "      <td></td>\n",
       "      <td></td>\n",
       "    </tr>\n",
       "    <tr>\n",
       "      <th>1</th>\n",
       "      <td>sa kaeo</td>\n",
       "      <td></td>\n",
       "      <td></td>\n",
       "      <td></td>\n",
       "      <td></td>\n",
       "      <td></td>\n",
       "      <td></td>\n",
       "    </tr>\n",
       "    <tr>\n",
       "      <th>2</th>\n",
       "      <td>yanam</td>\n",
       "      <td></td>\n",
       "      <td></td>\n",
       "      <td></td>\n",
       "      <td></td>\n",
       "      <td></td>\n",
       "      <td></td>\n",
       "    </tr>\n",
       "    <tr>\n",
       "      <th>3</th>\n",
       "      <td>pisco</td>\n",
       "      <td></td>\n",
       "      <td></td>\n",
       "      <td></td>\n",
       "      <td></td>\n",
       "      <td></td>\n",
       "      <td></td>\n",
       "    </tr>\n",
       "    <tr>\n",
       "      <th>4</th>\n",
       "      <td>jamestown</td>\n",
       "      <td></td>\n",
       "      <td></td>\n",
       "      <td></td>\n",
       "      <td></td>\n",
       "      <td></td>\n",
       "      <td></td>\n",
       "    </tr>\n",
       "    <tr>\n",
       "      <th>...</th>\n",
       "      <td>...</td>\n",
       "      <td>...</td>\n",
       "      <td>...</td>\n",
       "      <td>...</td>\n",
       "      <td>...</td>\n",
       "      <td>...</td>\n",
       "      <td>...</td>\n",
       "    </tr>\n",
       "    <tr>\n",
       "      <th>615</th>\n",
       "      <td>sint michiel</td>\n",
       "      <td></td>\n",
       "      <td></td>\n",
       "      <td></td>\n",
       "      <td></td>\n",
       "      <td></td>\n",
       "      <td></td>\n",
       "    </tr>\n",
       "    <tr>\n",
       "      <th>616</th>\n",
       "      <td>komsomolskiy</td>\n",
       "      <td></td>\n",
       "      <td></td>\n",
       "      <td></td>\n",
       "      <td></td>\n",
       "      <td></td>\n",
       "      <td></td>\n",
       "    </tr>\n",
       "    <tr>\n",
       "      <th>617</th>\n",
       "      <td>santa cruz cabralia</td>\n",
       "      <td></td>\n",
       "      <td></td>\n",
       "      <td></td>\n",
       "      <td></td>\n",
       "      <td></td>\n",
       "      <td></td>\n",
       "    </tr>\n",
       "    <tr>\n",
       "      <th>618</th>\n",
       "      <td>kushima</td>\n",
       "      <td></td>\n",
       "      <td></td>\n",
       "      <td></td>\n",
       "      <td></td>\n",
       "      <td></td>\n",
       "      <td></td>\n",
       "    </tr>\n",
       "    <tr>\n",
       "      <th>619</th>\n",
       "      <td>maningrida</td>\n",
       "      <td></td>\n",
       "      <td></td>\n",
       "      <td></td>\n",
       "      <td></td>\n",
       "      <td></td>\n",
       "      <td></td>\n",
       "    </tr>\n",
       "  </tbody>\n",
       "</table>\n",
       "<p>620 rows × 7 columns</p>\n",
       "</div>"
      ],
      "text/plain": [
       "                    City lat long temp humidity cloudiness windspeed\n",
       "0              fairbanks                                            \n",
       "1                sa kaeo                                            \n",
       "2                  yanam                                            \n",
       "3                  pisco                                            \n",
       "4              jamestown                                            \n",
       "..                   ...  ..  ...  ...      ...        ...       ...\n",
       "615         sint michiel                                            \n",
       "616         komsomolskiy                                            \n",
       "617  santa cruz cabralia                                            \n",
       "618              kushima                                            \n",
       "619           maningrida                                            \n",
       "\n",
       "[620 rows x 7 columns]"
      ]
     },
     "execution_count": 6,
     "metadata": {},
     "output_type": "execute_result"
    }
   ],
   "source": [
    "df['lat'] = \"\"\n",
    "df['long'] = \"\"\n",
    "df['temp'] = \"\"\n",
    "df['humidity'] = \"\"\n",
    "df['cloudiness'] = \"\"\n",
    "df['windspeed'] = \"\"\n",
    "df"
   ]
  },
  {
   "cell_type": "markdown",
   "metadata": {},
   "source": [
    "### Perform API Calls\n",
    "* Perform a weather check on each city using a series of successive API calls.\n",
    "* Include a print log of each city as it'sbeing processed (with the city number and city name).\n"
   ]
  },
  {
   "cell_type": "code",
   "execution_count": 7,
   "metadata": {},
   "outputs": [],
   "source": [
    "url = \"http://api.openweathermap.org/data/2.5/weather?\"\n",
    "units=\"metric\"\n",
    "api_key = weather_api_key\n",
    "\n",
    "query_url = f\"{url}appid={api_key}&units={units}&q=\"\n",
    "\n",
    "city=cities\n",
    "#city=cities_20\n",
    "\n"
   ]
  },
  {
   "cell_type": "code",
   "execution_count": 8,
   "metadata": {},
   "outputs": [
    {
     "name": "stdout",
     "output_type": "stream",
     "text": [
      "stoyba\n",
      "{'cod': '404', 'message': 'city not found'}\n",
      "lolua\n",
      "{'cod': '404', 'message': 'city not found'}\n",
      "bokspits\n",
      "{'cod': '404', 'message': 'city not found'}\n",
      "taolanaro\n",
      "{'cod': '404', 'message': 'city not found'}\n",
      "illoqqortoormiut\n",
      "{'cod': '404', 'message': 'city not found'}\n",
      "tsihombe\n",
      "{'cod': '404', 'message': 'city not found'}\n",
      "xiongshi\n",
      "{'cod': '404', 'message': 'city not found'}\n",
      "sorvag\n",
      "{'cod': '404', 'message': 'city not found'}\n",
      "wahran\n",
      "{'cod': '404', 'message': 'city not found'}\n",
      "warqla\n",
      "{'cod': '404', 'message': 'city not found'}\n",
      "vaitupu\n",
      "{'cod': '404', 'message': 'city not found'}\n",
      "louisbourg\n",
      "{'cod': '404', 'message': 'city not found'}\n",
      "saleaula\n",
      "{'cod': '404', 'message': 'city not found'}\n",
      "azimur\n",
      "{'cod': '404', 'message': 'city not found'}\n",
      "yusva\n",
      "{'cod': '404', 'message': 'city not found'}\n",
      "aflu\n",
      "{'cod': '404', 'message': 'city not found'}\n",
      "tubruq\n",
      "{'cod': '404', 'message': 'city not found'}\n",
      "khonuu\n",
      "{'cod': '404', 'message': 'city not found'}\n",
      "kinanah\n",
      "{'cod': '404', 'message': 'city not found'}\n",
      "kuche\n",
      "{'cod': '404', 'message': 'city not found'}\n",
      "mys shmidta\n",
      "{'cod': '404', 'message': 'city not found'}\n",
      "barentsburg\n",
      "{'cod': '404', 'message': 'city not found'}\n",
      "belushya guba\n",
      "{'cod': '404', 'message': 'city not found'}\n",
      "skalistyy\n",
      "{'cod': '404', 'message': 'city not found'}\n",
      "sentyabrskiy\n",
      "{'cod': '404', 'message': 'city not found'}\n",
      "samusu\n",
      "{'cod': '404', 'message': 'city not found'}\n",
      "meyungs\n",
      "{'cod': '404', 'message': 'city not found'}\n",
      "umzimvubu\n",
      "{'cod': '404', 'message': 'city not found'}\n",
      "attawapiskat\n",
      "{'cod': '404', 'message': 'city not found'}\n",
      "yuzhno-yeniseyskiy\n",
      "{'cod': '404', 'message': 'city not found'}\n",
      "bolungarvik\n",
      "{'cod': '404', 'message': 'city not found'}\n",
      "amderma\n",
      "{'cod': '404', 'message': 'city not found'}\n",
      "grand river south east\n",
      "{'cod': '404', 'message': 'city not found'}\n",
      "kamenskoye\n",
      "{'cod': '404', 'message': 'city not found'}\n",
      "tumannyy\n",
      "{'cod': '404', 'message': 'city not found'}\n",
      "nizhneyansk\n",
      "{'cod': '404', 'message': 'city not found'}\n",
      "karkaralinsk\n",
      "{'cod': '404', 'message': 'city not found'}\n",
      "uwayl\n",
      "{'cod': '404', 'message': 'city not found'}\n",
      "chagda\n",
      "{'cod': '404', 'message': 'city not found'}\n",
      "hendijan\n",
      "{'cod': '404', 'message': 'city not found'}\n",
      "hihifo\n",
      "{'cod': '404', 'message': 'city not found'}\n",
      "sumbawa\n",
      "{'cod': '404', 'message': 'city not found'}\n",
      "sinkat\n",
      "{'cod': '404', 'message': 'city not found'}\n",
      "kuhestan\n",
      "{'cod': '404', 'message': 'city not found'}\n",
      "geresk\n",
      "{'cod': '404', 'message': 'city not found'}\n",
      "malwan\n",
      "{'cod': '404', 'message': 'city not found'}\n",
      "tapaua\n",
      "{'cod': '404', 'message': 'city not found'}\n",
      "ruatoria\n",
      "{'cod': '404', 'message': 'city not found'}\n",
      "palabuhanratu\n",
      "{'cod': '404', 'message': 'city not found'}\n",
      "othonoi\n",
      "{'cod': '404', 'message': 'city not found'}\n",
      "tarudant\n",
      "{'cod': '404', 'message': 'city not found'}\n",
      "alotau\n",
      "{'cod': '404', 'message': 'city not found'}\n",
      "sint michiel\n",
      "{'cod': '404', 'message': 'city not found'}\n"
     ]
    },
    {
     "data": {
      "text/html": [
       "<div>\n",
       "<style scoped>\n",
       "    .dataframe tbody tr th:only-of-type {\n",
       "        vertical-align: middle;\n",
       "    }\n",
       "\n",
       "    .dataframe tbody tr th {\n",
       "        vertical-align: top;\n",
       "    }\n",
       "\n",
       "    .dataframe thead th {\n",
       "        text-align: right;\n",
       "    }\n",
       "</style>\n",
       "<table border=\"1\" class=\"dataframe\">\n",
       "  <thead>\n",
       "    <tr style=\"text-align: right;\">\n",
       "      <th></th>\n",
       "      <th>City</th>\n",
       "      <th>lat</th>\n",
       "      <th>long</th>\n",
       "      <th>temp</th>\n",
       "      <th>humidity</th>\n",
       "      <th>cloudiness</th>\n",
       "      <th>windspeed</th>\n",
       "    </tr>\n",
       "  </thead>\n",
       "  <tbody>\n",
       "    <tr>\n",
       "      <th>0</th>\n",
       "      <td>fairbanks</td>\n",
       "      <td>64.8378</td>\n",
       "      <td>-147.716</td>\n",
       "      <td>6.03</td>\n",
       "      <td>68</td>\n",
       "      <td>1</td>\n",
       "      <td>3.09</td>\n",
       "    </tr>\n",
       "    <tr>\n",
       "      <th>1</th>\n",
       "      <td>sa kaeo</td>\n",
       "      <td>13.75</td>\n",
       "      <td>102.333</td>\n",
       "      <td>31.92</td>\n",
       "      <td>57</td>\n",
       "      <td>90</td>\n",
       "      <td>3.68</td>\n",
       "    </tr>\n",
       "    <tr>\n",
       "      <th>2</th>\n",
       "      <td>yanam</td>\n",
       "      <td>16.7333</td>\n",
       "      <td>82.2167</td>\n",
       "      <td>37.92</td>\n",
       "      <td>53</td>\n",
       "      <td>83</td>\n",
       "      <td>4.78</td>\n",
       "    </tr>\n",
       "    <tr>\n",
       "      <th>3</th>\n",
       "      <td>pisco</td>\n",
       "      <td>-13.7</td>\n",
       "      <td>-76.2167</td>\n",
       "      <td>16.21</td>\n",
       "      <td>88</td>\n",
       "      <td>20</td>\n",
       "      <td>1.54</td>\n",
       "    </tr>\n",
       "    <tr>\n",
       "      <th>4</th>\n",
       "      <td>jamestown</td>\n",
       "      <td>42.097</td>\n",
       "      <td>-79.2353</td>\n",
       "      <td>5.54</td>\n",
       "      <td>93</td>\n",
       "      <td>1</td>\n",
       "      <td>1.54</td>\n",
       "    </tr>\n",
       "    <tr>\n",
       "      <th>5</th>\n",
       "      <td>stoyba</td>\n",
       "      <td></td>\n",
       "      <td></td>\n",
       "      <td></td>\n",
       "      <td></td>\n",
       "      <td></td>\n",
       "      <td></td>\n",
       "    </tr>\n",
       "    <tr>\n",
       "      <th>6</th>\n",
       "      <td>hithadhoo</td>\n",
       "      <td>-0.6</td>\n",
       "      <td>73.0833</td>\n",
       "      <td>26.78</td>\n",
       "      <td>86</td>\n",
       "      <td>100</td>\n",
       "      <td>8.68</td>\n",
       "    </tr>\n",
       "    <tr>\n",
       "      <th>7</th>\n",
       "      <td>port hedland</td>\n",
       "      <td>-20.3167</td>\n",
       "      <td>118.567</td>\n",
       "      <td>25.18</td>\n",
       "      <td>69</td>\n",
       "      <td>0</td>\n",
       "      <td>1.54</td>\n",
       "    </tr>\n",
       "    <tr>\n",
       "      <th>8</th>\n",
       "      <td>busselton</td>\n",
       "      <td>-33.65</td>\n",
       "      <td>115.333</td>\n",
       "      <td>15.58</td>\n",
       "      <td>63</td>\n",
       "      <td>77</td>\n",
       "      <td>6.39</td>\n",
       "    </tr>\n",
       "    <tr>\n",
       "      <th>9</th>\n",
       "      <td>bafata</td>\n",
       "      <td>12.1667</td>\n",
       "      <td>-14.75</td>\n",
       "      <td>33.13</td>\n",
       "      <td>47</td>\n",
       "      <td>91</td>\n",
       "      <td>1.29</td>\n",
       "    </tr>\n",
       "    <tr>\n",
       "      <th>10</th>\n",
       "      <td>torbay</td>\n",
       "      <td>47.6666</td>\n",
       "      <td>-52.7314</td>\n",
       "      <td>5.24</td>\n",
       "      <td>83</td>\n",
       "      <td>75</td>\n",
       "      <td>7.2</td>\n",
       "    </tr>\n",
       "    <tr>\n",
       "      <th>11</th>\n",
       "      <td>lolua</td>\n",
       "      <td></td>\n",
       "      <td></td>\n",
       "      <td></td>\n",
       "      <td></td>\n",
       "      <td></td>\n",
       "      <td></td>\n",
       "    </tr>\n",
       "    <tr>\n",
       "      <th>12</th>\n",
       "      <td>ushuaia</td>\n",
       "      <td>-54.8</td>\n",
       "      <td>-68.3</td>\n",
       "      <td>8.34</td>\n",
       "      <td>71</td>\n",
       "      <td>90</td>\n",
       "      <td>10.8</td>\n",
       "    </tr>\n",
       "    <tr>\n",
       "      <th>13</th>\n",
       "      <td>port elizabeth</td>\n",
       "      <td>-33.918</td>\n",
       "      <td>25.5701</td>\n",
       "      <td>21.24</td>\n",
       "      <td>64</td>\n",
       "      <td>0</td>\n",
       "      <td>6.17</td>\n",
       "    </tr>\n",
       "    <tr>\n",
       "      <th>14</th>\n",
       "      <td>luderitz</td>\n",
       "      <td>-26.6481</td>\n",
       "      <td>15.1594</td>\n",
       "      <td>27.19</td>\n",
       "      <td>32</td>\n",
       "      <td>0</td>\n",
       "      <td>3.1</td>\n",
       "    </tr>\n",
       "    <tr>\n",
       "      <th>15</th>\n",
       "      <td>pando</td>\n",
       "      <td>-34.7167</td>\n",
       "      <td>-55.95</td>\n",
       "      <td>6.78</td>\n",
       "      <td>71</td>\n",
       "      <td>0</td>\n",
       "      <td>3.23</td>\n",
       "    </tr>\n",
       "    <tr>\n",
       "      <th>16</th>\n",
       "      <td>tawang</td>\n",
       "      <td>27.5833</td>\n",
       "      <td>91.8667</td>\n",
       "      <td>8.95</td>\n",
       "      <td>96</td>\n",
       "      <td>100</td>\n",
       "      <td>0.89</td>\n",
       "    </tr>\n",
       "    <tr>\n",
       "      <th>17</th>\n",
       "      <td>parati</td>\n",
       "      <td>-23.2178</td>\n",
       "      <td>-44.7131</td>\n",
       "      <td>27.43</td>\n",
       "      <td>96</td>\n",
       "      <td>100</td>\n",
       "      <td>0.97</td>\n",
       "    </tr>\n",
       "    <tr>\n",
       "      <th>18</th>\n",
       "      <td>kunashak</td>\n",
       "      <td>55.7032</td>\n",
       "      <td>61.5498</td>\n",
       "      <td>31.81</td>\n",
       "      <td>26</td>\n",
       "      <td>91</td>\n",
       "      <td>3.75</td>\n",
       "    </tr>\n",
       "    <tr>\n",
       "      <th>19</th>\n",
       "      <td>richards bay</td>\n",
       "      <td>-28.783</td>\n",
       "      <td>32.0377</td>\n",
       "      <td>27.91</td>\n",
       "      <td>47</td>\n",
       "      <td>0</td>\n",
       "      <td>4.69</td>\n",
       "    </tr>\n",
       "  </tbody>\n",
       "</table>\n",
       "</div>"
      ],
      "text/plain": [
       "              City      lat     long   temp humidity cloudiness windspeed\n",
       "0        fairbanks  64.8378 -147.716   6.03       68          1      3.09\n",
       "1          sa kaeo    13.75  102.333  31.92       57         90      3.68\n",
       "2            yanam  16.7333  82.2167  37.92       53         83      4.78\n",
       "3            pisco    -13.7 -76.2167  16.21       88         20      1.54\n",
       "4        jamestown   42.097 -79.2353   5.54       93          1      1.54\n",
       "5           stoyba                                                       \n",
       "6        hithadhoo     -0.6  73.0833  26.78       86        100      8.68\n",
       "7     port hedland -20.3167  118.567  25.18       69          0      1.54\n",
       "8        busselton   -33.65  115.333  15.58       63         77      6.39\n",
       "9           bafata  12.1667   -14.75  33.13       47         91      1.29\n",
       "10          torbay  47.6666 -52.7314   5.24       83         75       7.2\n",
       "11           lolua                                                       \n",
       "12         ushuaia    -54.8    -68.3   8.34       71         90      10.8\n",
       "13  port elizabeth  -33.918  25.5701  21.24       64          0      6.17\n",
       "14        luderitz -26.6481  15.1594  27.19       32          0       3.1\n",
       "15           pando -34.7167   -55.95   6.78       71          0      3.23\n",
       "16          tawang  27.5833  91.8667   8.95       96        100      0.89\n",
       "17          parati -23.2178 -44.7131  27.43       96        100      0.97\n",
       "18        kunashak  55.7032  61.5498  31.81       26         91      3.75\n",
       "19    richards bay  -28.783  32.0377  27.91       47          0      4.69"
      ]
     },
     "execution_count": 8,
     "metadata": {},
     "output_type": "execute_result"
    }
   ],
   "source": [
    "for i, row in df.iterrows():\n",
    "    city=row[0]\n",
    "    \n",
    "    response = requests.get(query_url + city).json()\n",
    "    try:\n",
    "        lat = response['coord']['lat']\n",
    "        long = response['coord']['lon']\n",
    "        temp = response['main']['temp']\n",
    "        humidity = response['main']['humidity']\n",
    "        cloudiness = response['clouds']['all']\n",
    "        windspeed = response['wind']['speed']\n",
    "           \n",
    "        df.loc[i, \"lat\"] = lat\n",
    "        df.loc[i, \"long\"] = long\n",
    "        df.loc[i, \"temp\"] = temp\n",
    "        df.loc[i, \"humidity\"] = humidity\n",
    "        df.loc[i, \"cloudiness\"] = cloudiness\n",
    "        df.loc[i, \"windspeed\"] = windspeed\n",
    "\n",
    "    except:\n",
    "        print(city)\n",
    "        print(response)\n",
    "\n",
    "df.head(20)"
   ]
  },
  {
   "cell_type": "code",
   "execution_count": 22,
   "metadata": {},
   "outputs": [
    {
     "data": {
      "text/plain": [
       "City           object\n",
       "lat           float64\n",
       "long          float64\n",
       "temp          float64\n",
       "humidity      float64\n",
       "cloudiness    float64\n",
       "windspeed     float64\n",
       "dtype: object"
      ]
     },
     "execution_count": 22,
     "metadata": {},
     "output_type": "execute_result"
    }
   ],
   "source": [
    "df.to_csv(\"cities_data_.csv\", index = False)\n",
    "df.head()\n",
    "df.dtypes\n",
    "df[['lat','long', 'temp', 'humidity', 'cloudiness', 'windspeed']]=df[['lat','long', 'temp', 'humidity', 'cloudiness', 'windspeed']].apply(pd.to_numeric)\n",
    "df.dtypes"
   ]
  },
  {
   "cell_type": "code",
   "execution_count": 23,
   "metadata": {},
   "outputs": [
    {
     "data": {
      "text/html": [
       "<div>\n",
       "<style scoped>\n",
       "    .dataframe tbody tr th:only-of-type {\n",
       "        vertical-align: middle;\n",
       "    }\n",
       "\n",
       "    .dataframe tbody tr th {\n",
       "        vertical-align: top;\n",
       "    }\n",
       "\n",
       "    .dataframe thead th {\n",
       "        text-align: right;\n",
       "    }\n",
       "</style>\n",
       "<table border=\"1\" class=\"dataframe\">\n",
       "  <thead>\n",
       "    <tr style=\"text-align: right;\">\n",
       "      <th></th>\n",
       "      <th>City</th>\n",
       "      <th>lat</th>\n",
       "      <th>long</th>\n",
       "      <th>temp</th>\n",
       "      <th>humidity</th>\n",
       "      <th>cloudiness</th>\n",
       "      <th>windspeed</th>\n",
       "    </tr>\n",
       "  </thead>\n",
       "  <tbody>\n",
       "    <tr>\n",
       "      <th>171</th>\n",
       "      <td>avarua</td>\n",
       "      <td>-21.2078</td>\n",
       "      <td>-159.7750</td>\n",
       "      <td>23.06</td>\n",
       "      <td>100.0</td>\n",
       "      <td>75.0</td>\n",
       "      <td>0.51</td>\n",
       "    </tr>\n",
       "    <tr>\n",
       "      <th>430</th>\n",
       "      <td>santarem</td>\n",
       "      <td>-2.4431</td>\n",
       "      <td>-54.7083</td>\n",
       "      <td>24.97</td>\n",
       "      <td>100.0</td>\n",
       "      <td>40.0</td>\n",
       "      <td>1.03</td>\n",
       "    </tr>\n",
       "    <tr>\n",
       "      <th>432</th>\n",
       "      <td>gatesville</td>\n",
       "      <td>31.4352</td>\n",
       "      <td>-97.7439</td>\n",
       "      <td>16.36</td>\n",
       "      <td>100.0</td>\n",
       "      <td>75.0</td>\n",
       "      <td>0.00</td>\n",
       "    </tr>\n",
       "  </tbody>\n",
       "</table>\n",
       "</div>"
      ],
      "text/plain": [
       "           City      lat      long   temp  humidity  cloudiness  windspeed\n",
       "171      avarua -21.2078 -159.7750  23.06     100.0        75.0       0.51\n",
       "430    santarem  -2.4431  -54.7083  24.97     100.0        40.0       1.03\n",
       "432  gatesville  31.4352  -97.7439  16.36     100.0        75.0       0.00"
      ]
     },
     "execution_count": 23,
     "metadata": {},
     "output_type": "execute_result"
    }
   ],
   "source": [
    "df.loc[df['humidity']>=100]"
   ]
  },
  {
   "cell_type": "code",
   "execution_count": 26,
   "metadata": {},
   "outputs": [
    {
     "ename": "KeyError",
     "evalue": "'[171 430 432] not found in axis'",
     "output_type": "error",
     "traceback": [
      "\u001b[1;31m---------------------------------------------------------------------------\u001b[0m",
      "\u001b[1;31mKeyError\u001b[0m                                  Traceback (most recent call last)",
      "\u001b[1;32m<ipython-input-26-4eb51ad26fbe>\u001b[0m in \u001b[0;36m<module>\u001b[1;34m\u001b[0m\n\u001b[1;32m----> 1\u001b[1;33m \u001b[0mdf\u001b[0m\u001b[1;33m.\u001b[0m\u001b[0mdrop\u001b[0m\u001b[1;33m(\u001b[0m\u001b[0mlabels\u001b[0m\u001b[1;33m=\u001b[0m\u001b[1;33m[\u001b[0m\u001b[1;36m171\u001b[0m\u001b[1;33m,\u001b[0m\u001b[1;36m430\u001b[0m\u001b[1;33m,\u001b[0m\u001b[1;36m432\u001b[0m\u001b[1;33m]\u001b[0m\u001b[1;33m,\u001b[0m \u001b[0maxis\u001b[0m\u001b[1;33m=\u001b[0m\u001b[1;36m0\u001b[0m\u001b[1;33m,\u001b[0m \u001b[0minplace\u001b[0m\u001b[1;33m=\u001b[0m\u001b[1;32mTrue\u001b[0m\u001b[1;33m)\u001b[0m\u001b[1;33m\u001b[0m\u001b[1;33m\u001b[0m\u001b[0m\n\u001b[0m",
      "\u001b[1;32m~\\anaconda3\\lib\\site-packages\\pandas\\core\\frame.py\u001b[0m in \u001b[0;36mdrop\u001b[1;34m(self, labels, axis, index, columns, level, inplace, errors)\u001b[0m\n\u001b[0;32m   4161\u001b[0m                 \u001b[0mweight\u001b[0m  \u001b[1;36m1.0\u001b[0m     \u001b[1;36m0.8\u001b[0m\u001b[1;33m\u001b[0m\u001b[1;33m\u001b[0m\u001b[0m\n\u001b[0;32m   4162\u001b[0m         \"\"\"\n\u001b[1;32m-> 4163\u001b[1;33m         return super().drop(\n\u001b[0m\u001b[0;32m   4164\u001b[0m             \u001b[0mlabels\u001b[0m\u001b[1;33m=\u001b[0m\u001b[0mlabels\u001b[0m\u001b[1;33m,\u001b[0m\u001b[1;33m\u001b[0m\u001b[1;33m\u001b[0m\u001b[0m\n\u001b[0;32m   4165\u001b[0m             \u001b[0maxis\u001b[0m\u001b[1;33m=\u001b[0m\u001b[0maxis\u001b[0m\u001b[1;33m,\u001b[0m\u001b[1;33m\u001b[0m\u001b[1;33m\u001b[0m\u001b[0m\n",
      "\u001b[1;32m~\\anaconda3\\lib\\site-packages\\pandas\\core\\generic.py\u001b[0m in \u001b[0;36mdrop\u001b[1;34m(self, labels, axis, index, columns, level, inplace, errors)\u001b[0m\n\u001b[0;32m   3885\u001b[0m         \u001b[1;32mfor\u001b[0m \u001b[0maxis\u001b[0m\u001b[1;33m,\u001b[0m \u001b[0mlabels\u001b[0m \u001b[1;32min\u001b[0m \u001b[0maxes\u001b[0m\u001b[1;33m.\u001b[0m\u001b[0mitems\u001b[0m\u001b[1;33m(\u001b[0m\u001b[1;33m)\u001b[0m\u001b[1;33m:\u001b[0m\u001b[1;33m\u001b[0m\u001b[1;33m\u001b[0m\u001b[0m\n\u001b[0;32m   3886\u001b[0m             \u001b[1;32mif\u001b[0m \u001b[0mlabels\u001b[0m \u001b[1;32mis\u001b[0m \u001b[1;32mnot\u001b[0m \u001b[1;32mNone\u001b[0m\u001b[1;33m:\u001b[0m\u001b[1;33m\u001b[0m\u001b[1;33m\u001b[0m\u001b[0m\n\u001b[1;32m-> 3887\u001b[1;33m                 \u001b[0mobj\u001b[0m \u001b[1;33m=\u001b[0m \u001b[0mobj\u001b[0m\u001b[1;33m.\u001b[0m\u001b[0m_drop_axis\u001b[0m\u001b[1;33m(\u001b[0m\u001b[0mlabels\u001b[0m\u001b[1;33m,\u001b[0m \u001b[0maxis\u001b[0m\u001b[1;33m,\u001b[0m \u001b[0mlevel\u001b[0m\u001b[1;33m=\u001b[0m\u001b[0mlevel\u001b[0m\u001b[1;33m,\u001b[0m \u001b[0merrors\u001b[0m\u001b[1;33m=\u001b[0m\u001b[0merrors\u001b[0m\u001b[1;33m)\u001b[0m\u001b[1;33m\u001b[0m\u001b[1;33m\u001b[0m\u001b[0m\n\u001b[0m\u001b[0;32m   3888\u001b[0m \u001b[1;33m\u001b[0m\u001b[0m\n\u001b[0;32m   3889\u001b[0m         \u001b[1;32mif\u001b[0m \u001b[0minplace\u001b[0m\u001b[1;33m:\u001b[0m\u001b[1;33m\u001b[0m\u001b[1;33m\u001b[0m\u001b[0m\n",
      "\u001b[1;32m~\\anaconda3\\lib\\site-packages\\pandas\\core\\generic.py\u001b[0m in \u001b[0;36m_drop_axis\u001b[1;34m(self, labels, axis, level, errors)\u001b[0m\n\u001b[0;32m   3919\u001b[0m                 \u001b[0mnew_axis\u001b[0m \u001b[1;33m=\u001b[0m \u001b[0maxis\u001b[0m\u001b[1;33m.\u001b[0m\u001b[0mdrop\u001b[0m\u001b[1;33m(\u001b[0m\u001b[0mlabels\u001b[0m\u001b[1;33m,\u001b[0m \u001b[0mlevel\u001b[0m\u001b[1;33m=\u001b[0m\u001b[0mlevel\u001b[0m\u001b[1;33m,\u001b[0m \u001b[0merrors\u001b[0m\u001b[1;33m=\u001b[0m\u001b[0merrors\u001b[0m\u001b[1;33m)\u001b[0m\u001b[1;33m\u001b[0m\u001b[1;33m\u001b[0m\u001b[0m\n\u001b[0;32m   3920\u001b[0m             \u001b[1;32melse\u001b[0m\u001b[1;33m:\u001b[0m\u001b[1;33m\u001b[0m\u001b[1;33m\u001b[0m\u001b[0m\n\u001b[1;32m-> 3921\u001b[1;33m                 \u001b[0mnew_axis\u001b[0m \u001b[1;33m=\u001b[0m \u001b[0maxis\u001b[0m\u001b[1;33m.\u001b[0m\u001b[0mdrop\u001b[0m\u001b[1;33m(\u001b[0m\u001b[0mlabels\u001b[0m\u001b[1;33m,\u001b[0m \u001b[0merrors\u001b[0m\u001b[1;33m=\u001b[0m\u001b[0merrors\u001b[0m\u001b[1;33m)\u001b[0m\u001b[1;33m\u001b[0m\u001b[1;33m\u001b[0m\u001b[0m\n\u001b[0m\u001b[0;32m   3922\u001b[0m             \u001b[0mresult\u001b[0m \u001b[1;33m=\u001b[0m \u001b[0mself\u001b[0m\u001b[1;33m.\u001b[0m\u001b[0mreindex\u001b[0m\u001b[1;33m(\u001b[0m\u001b[1;33m**\u001b[0m\u001b[1;33m{\u001b[0m\u001b[0maxis_name\u001b[0m\u001b[1;33m:\u001b[0m \u001b[0mnew_axis\u001b[0m\u001b[1;33m}\u001b[0m\u001b[1;33m)\u001b[0m\u001b[1;33m\u001b[0m\u001b[1;33m\u001b[0m\u001b[0m\n\u001b[0;32m   3923\u001b[0m \u001b[1;33m\u001b[0m\u001b[0m\n",
      "\u001b[1;32m~\\anaconda3\\lib\\site-packages\\pandas\\core\\indexes\\base.py\u001b[0m in \u001b[0;36mdrop\u001b[1;34m(self, labels, errors)\u001b[0m\n\u001b[0;32m   5280\u001b[0m         \u001b[1;32mif\u001b[0m \u001b[0mmask\u001b[0m\u001b[1;33m.\u001b[0m\u001b[0many\u001b[0m\u001b[1;33m(\u001b[0m\u001b[1;33m)\u001b[0m\u001b[1;33m:\u001b[0m\u001b[1;33m\u001b[0m\u001b[1;33m\u001b[0m\u001b[0m\n\u001b[0;32m   5281\u001b[0m             \u001b[1;32mif\u001b[0m \u001b[0merrors\u001b[0m \u001b[1;33m!=\u001b[0m \u001b[1;34m\"ignore\"\u001b[0m\u001b[1;33m:\u001b[0m\u001b[1;33m\u001b[0m\u001b[1;33m\u001b[0m\u001b[0m\n\u001b[1;32m-> 5282\u001b[1;33m                 \u001b[1;32mraise\u001b[0m \u001b[0mKeyError\u001b[0m\u001b[1;33m(\u001b[0m\u001b[1;34mf\"{labels[mask]} not found in axis\"\u001b[0m\u001b[1;33m)\u001b[0m\u001b[1;33m\u001b[0m\u001b[1;33m\u001b[0m\u001b[0m\n\u001b[0m\u001b[0;32m   5283\u001b[0m             \u001b[0mindexer\u001b[0m \u001b[1;33m=\u001b[0m \u001b[0mindexer\u001b[0m\u001b[1;33m[\u001b[0m\u001b[1;33m~\u001b[0m\u001b[0mmask\u001b[0m\u001b[1;33m]\u001b[0m\u001b[1;33m\u001b[0m\u001b[1;33m\u001b[0m\u001b[0m\n\u001b[0;32m   5284\u001b[0m         \u001b[1;32mreturn\u001b[0m \u001b[0mself\u001b[0m\u001b[1;33m.\u001b[0m\u001b[0mdelete\u001b[0m\u001b[1;33m(\u001b[0m\u001b[0mindexer\u001b[0m\u001b[1;33m)\u001b[0m\u001b[1;33m\u001b[0m\u001b[1;33m\u001b[0m\u001b[0m\n",
      "\u001b[1;31mKeyError\u001b[0m: '[171 430 432] not found in axis'"
     ]
    }
   ],
   "source": [
    "df.drop(labels=[171,430,432], axis=0, inplace=True)\n"
   ]
  },
  {
   "cell_type": "code",
   "execution_count": 30,
   "metadata": {},
   "outputs": [
    {
     "data": {
      "text/html": [
       "<div>\n",
       "<style scoped>\n",
       "    .dataframe tbody tr th:only-of-type {\n",
       "        vertical-align: middle;\n",
       "    }\n",
       "\n",
       "    .dataframe tbody tr th {\n",
       "        vertical-align: top;\n",
       "    }\n",
       "\n",
       "    .dataframe thead th {\n",
       "        text-align: right;\n",
       "    }\n",
       "</style>\n",
       "<table border=\"1\" class=\"dataframe\">\n",
       "  <thead>\n",
       "    <tr style=\"text-align: right;\">\n",
       "      <th></th>\n",
       "      <th>City</th>\n",
       "      <th>lat</th>\n",
       "      <th>long</th>\n",
       "      <th>temp</th>\n",
       "      <th>humidity</th>\n",
       "      <th>cloudiness</th>\n",
       "      <th>windspeed</th>\n",
       "    </tr>\n",
       "  </thead>\n",
       "  <tbody>\n",
       "    <tr>\n",
       "      <th>170</th>\n",
       "      <td>kaniama</td>\n",
       "      <td>-7.5667</td>\n",
       "      <td>24.1833</td>\n",
       "      <td>28.69</td>\n",
       "      <td>38.0</td>\n",
       "      <td>2.0</td>\n",
       "      <td>1.37</td>\n",
       "    </tr>\n",
       "    <tr>\n",
       "      <th>172</th>\n",
       "      <td>lebu</td>\n",
       "      <td>-37.6167</td>\n",
       "      <td>-73.6500</td>\n",
       "      <td>11.37</td>\n",
       "      <td>88.0</td>\n",
       "      <td>97.0</td>\n",
       "      <td>1.92</td>\n",
       "    </tr>\n",
       "    <tr>\n",
       "      <th>173</th>\n",
       "      <td>caravelas</td>\n",
       "      <td>-17.7125</td>\n",
       "      <td>-39.2481</td>\n",
       "      <td>23.57</td>\n",
       "      <td>74.0</td>\n",
       "      <td>25.0</td>\n",
       "      <td>1.97</td>\n",
       "    </tr>\n",
       "    <tr>\n",
       "      <th>174</th>\n",
       "      <td>el cope</td>\n",
       "      <td>8.6167</td>\n",
       "      <td>-80.6000</td>\n",
       "      <td>21.58</td>\n",
       "      <td>93.0</td>\n",
       "      <td>98.0</td>\n",
       "      <td>2.23</td>\n",
       "    </tr>\n",
       "    <tr>\n",
       "      <th>175</th>\n",
       "      <td>manggar</td>\n",
       "      <td>-2.8833</td>\n",
       "      <td>108.2667</td>\n",
       "      <td>27.51</td>\n",
       "      <td>82.0</td>\n",
       "      <td>100.0</td>\n",
       "      <td>3.78</td>\n",
       "    </tr>\n",
       "    <tr>\n",
       "      <th>...</th>\n",
       "      <td>...</td>\n",
       "      <td>...</td>\n",
       "      <td>...</td>\n",
       "      <td>...</td>\n",
       "      <td>...</td>\n",
       "      <td>...</td>\n",
       "      <td>...</td>\n",
       "    </tr>\n",
       "    <tr>\n",
       "      <th>615</th>\n",
       "      <td>sint michiel</td>\n",
       "      <td>NaN</td>\n",
       "      <td>NaN</td>\n",
       "      <td>NaN</td>\n",
       "      <td>NaN</td>\n",
       "      <td>NaN</td>\n",
       "      <td>NaN</td>\n",
       "    </tr>\n",
       "    <tr>\n",
       "      <th>616</th>\n",
       "      <td>komsomolskiy</td>\n",
       "      <td>40.4272</td>\n",
       "      <td>71.7189</td>\n",
       "      <td>28.29</td>\n",
       "      <td>17.0</td>\n",
       "      <td>1.0</td>\n",
       "      <td>3.09</td>\n",
       "    </tr>\n",
       "    <tr>\n",
       "      <th>617</th>\n",
       "      <td>santa cruz cabralia</td>\n",
       "      <td>-16.2781</td>\n",
       "      <td>-39.0247</td>\n",
       "      <td>21.92</td>\n",
       "      <td>77.0</td>\n",
       "      <td>0.0</td>\n",
       "      <td>2.17</td>\n",
       "    </tr>\n",
       "    <tr>\n",
       "      <th>618</th>\n",
       "      <td>kushima</td>\n",
       "      <td>31.4583</td>\n",
       "      <td>131.2333</td>\n",
       "      <td>20.11</td>\n",
       "      <td>92.0</td>\n",
       "      <td>99.0</td>\n",
       "      <td>1.86</td>\n",
       "    </tr>\n",
       "    <tr>\n",
       "      <th>619</th>\n",
       "      <td>maningrida</td>\n",
       "      <td>-12.0667</td>\n",
       "      <td>134.2667</td>\n",
       "      <td>26.30</td>\n",
       "      <td>54.0</td>\n",
       "      <td>0.0</td>\n",
       "      <td>5.55</td>\n",
       "    </tr>\n",
       "  </tbody>\n",
       "</table>\n",
       "<p>447 rows × 7 columns</p>\n",
       "</div>"
      ],
      "text/plain": [
       "                    City      lat      long   temp  humidity  cloudiness  \\\n",
       "170              kaniama  -7.5667   24.1833  28.69      38.0         2.0   \n",
       "172                 lebu -37.6167  -73.6500  11.37      88.0        97.0   \n",
       "173            caravelas -17.7125  -39.2481  23.57      74.0        25.0   \n",
       "174              el cope   8.6167  -80.6000  21.58      93.0        98.0   \n",
       "175              manggar  -2.8833  108.2667  27.51      82.0       100.0   \n",
       "..                   ...      ...       ...    ...       ...         ...   \n",
       "615         sint michiel      NaN       NaN    NaN       NaN         NaN   \n",
       "616         komsomolskiy  40.4272   71.7189  28.29      17.0         1.0   \n",
       "617  santa cruz cabralia -16.2781  -39.0247  21.92      77.0         0.0   \n",
       "618              kushima  31.4583  131.2333  20.11      92.0        99.0   \n",
       "619           maningrida -12.0667  134.2667  26.30      54.0         0.0   \n",
       "\n",
       "     windspeed  \n",
       "170       1.37  \n",
       "172       1.92  \n",
       "173       1.97  \n",
       "174       2.23  \n",
       "175       3.78  \n",
       "..         ...  \n",
       "615        NaN  \n",
       "616       3.09  \n",
       "617       2.17  \n",
       "618       1.86  \n",
       "619       5.55  \n",
       "\n",
       "[447 rows x 7 columns]"
      ]
     },
     "execution_count": 30,
     "metadata": {},
     "output_type": "execute_result"
    }
   ],
   "source": [
    "df.iloc[170:]\n",
    "df.reset_index()\n",
    "df.iloc[170:]"
   ]
  },
  {
   "cell_type": "markdown",
   "metadata": {},
   "source": [
    "## Inspect the data and remove the cities where the humidity > 100%.\n",
    "----\n",
    "Skip this step if there are no cities that have humidity > 100%. "
   ]
  },
  {
   "cell_type": "code",
   "execution_count": null,
   "metadata": {},
   "outputs": [],
   "source": []
  },
  {
   "cell_type": "code",
   "execution_count": 9,
   "metadata": {},
   "outputs": [],
   "source": [
    "#  Get the indices of cities that have humidity over 100%.\n"
   ]
  },
  {
   "cell_type": "code",
   "execution_count": 10,
   "metadata": {},
   "outputs": [],
   "source": [
    "# Make a new DataFrame equal to the city data to drop all humidity outliers by index.\n",
    "# Passing \"inplace=False\" will make a copy of the city_data DataFrame, which we call \"clean_city_data\".\n"
   ]
  },
  {
   "cell_type": "code",
   "execution_count": null,
   "metadata": {},
   "outputs": [],
   "source": [
    "\n"
   ]
  },
  {
   "cell_type": "markdown",
   "metadata": {},
   "source": [
    "## Plotting the Data\n",
    "* Use proper labeling of the plots using plot titles (including date of analysis) and axes labels.\n",
    "* Save the plotted figures as .pngs."
   ]
  },
  {
   "cell_type": "markdown",
   "metadata": {},
   "source": [
    "## Latitude vs. Temperature Plot"
   ]
  },
  {
   "cell_type": "code",
   "execution_count": 41,
   "metadata": {
    "scrolled": true
   },
   "outputs": [
    {
     "data": {
      "image/png": "[encoded data removed]",
      "text/plain": [
       "<Figure size 432x288 with 1 Axes>"
      ]
     },
     "metadata": {
      "needs_background": "light"
     },
     "output_type": "display_data"
    }
   ],
   "source": [
    "latitude=df.iloc[:, 1]\n",
    "temperature=df.iloc[:, 3]\n",
    "\n",
    "\n",
    "# Plot\n",
    "plt.scatter(latitude, temperature)\n",
    "plt.title('City Latitude vs. Max Temperature (5/13/21)')\n",
    "plt.xlabel('Latitude')\n",
    "plt.ylabel('Max. Temperature (F)')\n",
    "plt.show()"
   ]
  },
  {
   "cell_type": "markdown",
   "metadata": {},
   "source": [
    "## Latitude vs. Humidity Plot"
   ]
  },
  {
   "cell_type": "code",
   "execution_count": 42,
   "metadata": {},
   "outputs": [
    {
     "data": {
      "image/png": "[encoded data removed]",
      "text/plain": [
       "<Figure size 432x288 with 1 Axes>"
      ]
     },
     "metadata": {
      "needs_background": "light"
     },
     "output_type": "display_data"
    }
   ],
   "source": [
    "humidity=df.iloc[:,4]\n",
    "plt.scatter(latitude,humidity)\n",
    "plt.title('City Latitude vs. Humidity (5/13/21)')\n",
    "plt.xlabel('Latitude')\n",
    "plt.ylabel('Humidity (%)')\n",
    "plt.show()"
   ]
  },
  {
   "cell_type": "markdown",
   "metadata": {},
   "source": [
    "## Latitude vs. Cloudiness Plot"
   ]
  },
  {
   "cell_type": "code",
   "execution_count": 44,
   "metadata": {},
   "outputs": [
    {
     "data": {
      "image/png": "[encoded data removed]",
      "text/plain": [
       "<Figure size 432x288 with 1 Axes>"
      ]
     },
     "metadata": {
      "needs_background": "light"
     },
     "output_type": "display_data"
    }
   ],
   "source": [
    "cloud = df.iloc[:,5]\n",
    "plt.scatter(latitude,cloud)\n",
    "plt.title('City Latitude vs. Cloudiness (5/13/21)')\n",
    "plt.xlabel('Latitude')\n",
    "plt.ylabel('Cloudiness (%)')\n",
    "plt.show()"
   ]
  },
  {
   "cell_type": "markdown",
   "metadata": {},
   "source": [
    "## Latitude vs. Wind Speed Plot"
   ]
  },
  {
   "cell_type": "code",
   "execution_count": 45,
   "metadata": {},
   "outputs": [
    {
     "data": {
      "image/png": "[encoded data removed]",
      "text/plain": [
       "<Figure size 432x288 with 1 Axes>"
      ]
     },
     "metadata": {
      "needs_background": "light"
     },
     "output_type": "display_data"
    }
   ],
   "source": [
    "wind=df.iloc[:,6]\n",
    "plt.scatter(latitude,wind)\n",
    "plt.title('City Latitude vs. Wind Speed (5/13/21)')\n",
    "plt.xlabel('Latitude')\n",
    "plt.ylabel('Wind Speed (mph)')\n",
    "plt.show()"
   ]
  },
  {
   "cell_type": "markdown",
   "metadata": {},
   "source": [
    "## Linear Regression"
   ]
  },
  {
   "cell_type": "code",
   "execution_count": null,
   "metadata": {},
   "outputs": [],
   "source": []
  },
  {
   "cell_type": "markdown",
   "metadata": {},
   "source": [
    "####  Northern Hemisphere - Max Temp vs. Latitude Linear Regression"
   ]
  },
  {
   "cell_type": "code",
   "execution_count": null,
   "metadata": {},
   "outputs": [],
   "source": []
  },
  {
   "cell_type": "markdown",
   "metadata": {},
   "source": [
    "####  Southern Hemisphere - Max Temp vs. Latitude Linear Regression"
   ]
  },
  {
   "cell_type": "code",
   "execution_count": null,
   "metadata": {},
   "outputs": [],
   "source": []
  },
  {
   "cell_type": "markdown",
   "metadata": {},
   "source": [
    "####  Northern Hemisphere - Humidity (%) vs. Latitude Linear Regression"
   ]
  },
  {
   "cell_type": "code",
   "execution_count": null,
   "metadata": {},
   "outputs": [],
   "source": []
  },
  {
   "cell_type": "markdown",
   "metadata": {},
   "source": [
    "####  Southern Hemisphere - Humidity (%) vs. Latitude Linear Regression"
   ]
  },
  {
   "cell_type": "code",
   "execution_count": null,
   "metadata": {},
   "outputs": [],
   "source": []
  },
  {
   "cell_type": "markdown",
   "metadata": {},
   "source": [
    "####  Northern Hemisphere - Cloudiness (%) vs. Latitude Linear Regression"
   ]
  },
  {
   "cell_type": "code",
   "execution_count": null,
   "metadata": {},
   "outputs": [],
   "source": []
  },
  {
   "cell_type": "markdown",
   "metadata": {},
   "source": [
    "####  Southern Hemisphere - Cloudiness (%) vs. Latitude Linear Regression"
   ]
  },
  {
   "cell_type": "code",
   "execution_count": null,
   "metadata": {},
   "outputs": [],
   "source": []
  },
  {
   "cell_type": "markdown",
   "metadata": {},
   "source": [
    "####  Northern Hemisphere - Wind Speed (mph) vs. Latitude Linear Regression"
   ]
  },
  {
   "cell_type": "code",
   "execution_count": null,
   "metadata": {},
   "outputs": [],
   "source": []
  },
  {
   "cell_type": "markdown",
   "metadata": {},
   "source": [
    "####  Southern Hemisphere - Wind Speed (mph) vs. Latitude Linear Regression"
   ]
  },
  {
   "cell_type": "code",
   "execution_count": null,
   "metadata": {},
   "outputs": [],
   "source": []
  },
  {
   "cell_type": "code",
   "execution_count": null,
   "metadata": {},
   "outputs": [],
   "source": []
  }
 ],
 "metadata": {
  "anaconda-cloud": {},
  "kernel_info": {
   "name": "python3"
  },
  "kernelspec": {
   "display_name": "Python 3",
   "language": "python",
   "name": "python3"
  },
  "language_info": {
   "codemirror_mode": {
    "name": "ipython",
    "version": 3
   },
   "file_extension": ".py",
   "mimetype": "text/x-python",
   "name": "python",
   "nbconvert_exporter": "python",
   "pygments_lexer": "ipython3",
   "version": "3.8.5"
  },
  "latex_envs": {
   "LaTeX_envs_menu_present": true,
   "autoclose": false,
   "autocomplete": true,
   "bibliofile": "biblio.bib",
   "cite_by": "apalike",
   "current_citInitial": 1,
   "eqLabelWithNumbers": true,
   "eqNumInitial": 1,
   "hotkeys": {
    "equation": "Ctrl-E",
    "itemize": "Ctrl-I"
   },
   "labels_anchors": false,
   "latex_user_defs": false,
   "report_style_numbering": false,
   "user_envs_cfg": false
  },
  "nteract": {
   "version": "0.12.3"
  }
 },
 "nbformat": 4,
 "nbformat_minor": 2
}
